{
  "nbformat": 4,
  "nbformat_minor": 0,
  "metadata": {
    "colab": {
      "name": "perceptron.ipynb",
      "provenance": [],
      "collapsed_sections": [],
      "toc_visible": true,
      "mount_file_id": "1LvaEsdwgR63LtewNp5QxfHxr-J6w8FKo",
      "authorship_tag": "ABX9TyMqAqg6BYfIL9V07OidR6XA"
    },
    "kernelspec": {
      "name": "python3",
      "display_name": "Python 3"
    },
    "language_info": {
      "name": "python"
    }
  },
  "cells": [
    {
      "cell_type": "markdown",
      "source": [
        ""
      ],
      "metadata": {
        "id": "dA2pTIIQOrjw"
      }
    },
    {
      "cell_type": "markdown",
      "source": [
        "### **=== パーセプトロン(Perceptron) ===**"
      ],
      "metadata": {
        "id": "f4v-KFEAOwHc"
      }
    },
    {
      "cell_type": "markdown",
      "source": [
        "パーセプトロンはニューラルネットワークの起源となるアルゴリズム\n",
        "複数ある入力信号(x)にそれぞれの重み(w)が乗算され、その和の値が閾値（しきいち：以下θと書く）より大きければ１を閾値以下であれば０を返す。\n",
        "\n",
        "\n",
        "y = { 0 (w1x1 + w2x2 <= θ) }  { 1 (w1x1 + w2x2 > θ) }\n",
        "\n",
        "パーセプトロンをANDやNANDやORで実装"
      ],
      "metadata": {
        "id": "jxGqJJ0DVskM"
      }
    },
    {
      "cell_type": "code",
      "source": [
        "def AND(x1,x2):\n",
        "  w1, w2, theta = 0.5, 0.5, 0.7\n",
        "  tmp = x1*w1 + x2*w2\n",
        "  if tmp <= theta:\n",
        "    return 0\n",
        "  elif tmp > theta:\n",
        "    return 1\n",
        "\n",
        "print(AND(0,0))\n",
        "print(AND(1,0))\n",
        "print(AND(0,1))\n",
        "print(AND(1,1))"
      ],
      "metadata": {
        "colab": {
          "base_uri": "https://localhost:8080/"
        },
        "id": "vuVRDw2jPQkU",
        "outputId": "dd9edae3-67f0-487a-a20d-75246e83238e"
      },
      "execution_count": null,
      "outputs": [
        {
          "output_type": "stream",
          "name": "stdout",
          "text": [
            "0\n",
            "0\n",
            "0\n",
            "1\n"
          ]
        }
      ]
    },
    {
      "cell_type": "code",
      "source": [
        "# 上記入力0,1と同じ計算\n",
        "import numpy as np\n",
        "x = np.array([0,1])\n",
        "w = np.array([.5,.5])\n",
        "b = -.7\n",
        "print(w*x)\n",
        "print(np.sum(w*x))\n",
        "np.sum(w*x) + b # 約-0.2　"
      ],
      "metadata": {
        "colab": {
          "base_uri": "https://localhost:8080/"
        },
        "id": "36684SipVOXH",
        "outputId": "74a84cda-f61b-4891-82ae-481cfcc77b8b"
      },
      "execution_count": null,
      "outputs": [
        {
          "output_type": "stream",
          "name": "stdout",
          "text": [
            "[0.  0.5]\n",
            "0.5\n"
          ]
        },
        {
          "output_type": "execute_result",
          "data": {
            "text/plain": [
              "-0.19999999999999996"
            ]
          },
          "metadata": {},
          "execution_count": 23
        }
      ]
    },
    {
      "cell_type": "code",
      "source": [
        "def AND(x1, x2):\n",
        "  x = np.array([x1, x2])\n",
        "  w = np.array([.5, .5])\n",
        "  b = -.7\n",
        "  tmp = np.sum(w*x) + b\n",
        "  if tmp <= 0:\n",
        "    return 0\n",
        "  else:\n",
        "    return 1"
      ],
      "metadata": {
        "id": "c7qFGTOvYUJa"
      },
      "execution_count": null,
      "outputs": []
    },
    {
      "cell_type": "code",
      "source": [
        "def NAND(x1, x2):\n",
        "  x = np.array([x1, x2])\n",
        "  # NANDの場合は重みとバイアスの値をANDと符号を変えて反対にする\n",
        "  w = np.array([-.5, -.5])\n",
        "  b = .7\n",
        "  tmp = np.sum(w*x) + b\n",
        "  if tmp <= 0:\n",
        "    return 0\n",
        "  else:\n",
        "    return 1\n",
        "  \n",
        "def OR(x1, x2):\n",
        "  x = np.array([x1, x2])\n",
        "  w = np.array([.5, .5])\n",
        "  b = -.2\n",
        "  tmp = sum(x*w) + b\n",
        "  if tmp <= 0:\n",
        "    return 0\n",
        "  else:\n",
        "    return 1"
      ],
      "metadata": {
        "id": "ONaHBqcAaG_O"
      },
      "execution_count": null,
      "outputs": []
    },
    {
      "cell_type": "markdown",
      "source": [
        "### **=== 多層パーセプトロン(multi-layered perceptron) ===**"
      ],
      "metadata": {
        "id": "vlXQsoMBdf6G"
      }
    },
    {
      "cell_type": "markdown",
      "source": [
        "パーセプトロン単体ではXORを同じ方法では実装できず、層を重ねることで実装が可能になる。\n",
        "\n",
        "ANDとNANDとORを組み合わせてXORを実装\n",
        "\n",
        "---\n",
        "入力のx1とx2の層を０層\n",
        "\n",
        "NANDとORの処理は１層\n",
        "\n",
        "最後のANDの処理は２層\n",
        "\n",
        "---\n",
        "全部で３層で構成されているので３層パーセプトロンと呼ばれることや\n",
        "\n",
        "重みを持つ層（０層と１層の間、１層と２層の間）が２層しかないので、２層パーセプトロンと呼ばれることも"
      ],
      "metadata": {
        "id": "3P6r74aZiz0V"
      }
    },
    {
      "cell_type": "markdown",
      "source": [
        "![xor.png](data:image/png;base64,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)"
      ],
      "metadata": {
        "id": "3jVneV2OmepC"
      }
    },
    {
      "cell_type": "code",
      "source": [
        "def XOR(x1, x2):\n",
        "  s1 = NAND(x1, x2)\n",
        "  s2 = OR(x1, x2)\n",
        "  y = AND(s1, s2)\n",
        "  return y\n",
        "\n",
        "print(XOR(0,0))\n",
        "print(XOR(1,0))\n",
        "print(XOR(0,1))\n",
        "print(XOR(1,1))"
      ],
      "metadata": {
        "colab": {
          "base_uri": "https://localhost:8080/"
        },
        "id": "Ajy2yhHxh3EY",
        "outputId": "ed3d9f65-489f-45e9-cfa3-6618354404a6"
      },
      "execution_count": null,
      "outputs": [
        {
          "output_type": "stream",
          "name": "stdout",
          "text": [
            "0\n",
            "1\n",
            "1\n",
            "0\n"
          ]
        }
      ]
    },
    {
      "cell_type": "markdown",
      "source": [
        "### === まとめ ==="
      ],
      "metadata": {
        "id": "pDHeMvzWoukN"
      }
    },
    {
      "cell_type": "markdown",
      "source": [
        "\n",
        "\n",
        "*   パーセプトロンは入出力を備えたアルゴリズムで、ある入力が与えられると決まった値を返す\n",
        "*   パーセプトロンでは、「重み」と「バイアス」をパラメータとして設定する\n",
        "\n",
        "*   単層のパーセプトロンでは線形領域しか表現できないが、多層にすることで非線形領域を表現可能\n",
        "\n",
        "\n",
        "\n",
        "\n"
      ],
      "metadata": {
        "id": "iDxCpWbko0zt"
      }
    }
  ]
}